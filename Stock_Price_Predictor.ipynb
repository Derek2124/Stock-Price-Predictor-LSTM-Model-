{
  "nbformat": 4,
  "nbformat_minor": 0,
  "metadata": {
    "colab": {
      "provenance": [],
      "authorship_tag": "ABX9TyOXFYymPuWSgWKho2eZSV8I",
      "include_colab_link": true
    },
    "kernelspec": {
      "name": "python3",
      "display_name": "Python 3"
    },
    "language_info": {
      "name": "python"
    }
  },
  "cells": [
    {
      "cell_type": "markdown",
      "metadata": {
        "id": "view-in-github",
        "colab_type": "text"
      },
      "source": [
        "<a href=\"https://colab.research.google.com/github/Derek2124/Stock-Price-Predictor-LSTM-Model-/blob/main/Stock_Price_Predictor.ipynb\" target=\"_parent\"><img src=\"https://colab.research.google.com/assets/colab-badge.svg\" alt=\"Open In Colab\"/></a>"
      ]
    },
    {
      "cell_type": "code",
      "execution_count": null,
      "metadata": {
        "id": "sBxfJnCactSb"
      },
      "outputs": [],
      "source": [
        "#import libraries\n",
        "import numpy as np\n",
        "import pandas as pd\n",
        "import matplotlib.pyplot as plt\n",
        "import torch\n",
        "import torch.nn as nn\n",
        "import torch.optim as optim\n",
        "from copy import deepcopy as dc\n",
        "from sklearn.mixture import GaussianMixture\n",
        "from sklearn.preprocessing import StandardScaler"
      ]
    },
    {
      "cell_type": "code",
      "source": [
        "#Prepare data\n",
        "df = pd.read_csv('UBER.csv')\n",
        "df = df[['Date', 'Adj Close']]\n",
        "df['Date'] = pd.to_datetime(df['Date'])\n",
        "df.set_index('Date', inplace = True);\n",
        "\n",
        "#Get Stock Returns\n",
        "prices = df['Adj Close'].to_numpy()\n",
        "returns = np.diff(prices) / prices[:-1]\n",
        "df['Stock Returns'] = np.nan\n",
        "df['Stock Returns'].iloc[1:] = returns\n",
        "df = df.drop(['Adj Close'], axis = 1)"
      ],
      "metadata": {
        "id": "p35CK4WOeobo"
      },
      "execution_count": null,
      "outputs": []
    },
    {
      "cell_type": "code",
      "source": [
        "#Prepare data for LSTM\n",
        "def prepare_df_LSTM(df, n_days):\n",
        "  #Innit df\n",
        "  df = dc(df)\n",
        "  #Create columns for LSTM data (one week)\n",
        "  for i in range(1, n_days+1):\n",
        "    df['Target (T - {})'.format(i)] = df['Stock Returns'].shift(i)\n",
        "\n",
        "  #Remove na values\n",
        "  df.dropna(inplace = True)\n",
        "\n",
        "  return df\n",
        "\n",
        "n_days = 7\n",
        "LSTM_df = prepare_df_LSTM(df, n_days)\n",
        "\n",
        "#Switch into NumPy Array\n",
        "LSTM_df = LSTM_df.to_numpy()"
      ],
      "metadata": {
        "id": "mqgzsQcqetwi"
      },
      "execution_count": null,
      "outputs": []
    },
    {
      "cell_type": "code",
      "source": [
        "#Scale the data\n",
        "scaler = StandardScaler()\n",
        "data_normalized = scaler.fit_transform(LSTM_df)\n",
        "gmm = GaussianMixture(n_components=7, random_state=0)\n",
        "gmm.fit(data_normalized);"
      ],
      "metadata": {
        "id": "kdhNvLYxcJuv"
      },
      "execution_count": null,
      "outputs": []
    },
    {
      "cell_type": "code",
      "source": [
        "#Split Train and Test Data\n",
        "X = LSTM_df[:,1:]\n",
        "Y = LSTM_df[:,0]\n",
        "\n",
        "Split = int(len(X) * 0.85)\n",
        "\n",
        "X_train = X[:Split]\n",
        "X_test = X[Split:]\n",
        "Y_train = Y[:Split]\n",
        "Y_test = Y[Split:]"
      ],
      "metadata": {
        "id": "iDTYpjmIhc2Q"
      },
      "execution_count": null,
      "outputs": []
    },
    {
      "cell_type": "code",
      "source": [
        "#Change to PyTorch Tensors\n",
        "X_train = torch.tensor(X_train).float()\n",
        "X_test = torch.tensor(X_test).float()\n",
        "Y_train = torch.tensor(Y_train).float()\n",
        "Y_test = torch.tensor(Y_test).float()"
      ],
      "metadata": {
        "id": "QV3HBsTaYU2t"
      },
      "execution_count": null,
      "outputs": []
    },
    {
      "cell_type": "code",
      "source": [
        "#LSTM Model\n",
        "class LSTM_Model(nn.Module):\n",
        "    def __init__(self, input_dim, hidden_dim, output_dim, num_layers):\n",
        "        super(LSTM_Model, self).__init__()\n",
        "        self.num_layers = num_layers\n",
        "        self.hidden_dim = hidden_dim\n",
        "        self.lstm = nn.LSTM(input_dim, hidden_dim, num_layers, batch_first=True)\n",
        "        self.fc = nn.Linear(hidden_dim, output_dim)\n",
        "\n",
        "    def forward(self, x):\n",
        "        # Convert DataFrame to tensor and ensure it's correctly shaped\n",
        "        if not isinstance(x, torch.Tensor):\n",
        "            x = torch.tensor(x.values, dtype=torch.float32)\n",
        "        x = x.unsqueeze(0)  # Add a batch dimension if missing\n",
        "\n",
        "        # Move tensor to appropriate device\n",
        "        device = x.device\n",
        "        x = x.to(device)\n",
        "\n",
        "        # Initialize hidden and cell states\n",
        "        h0 = torch.zeros(self.num_layers, x.size(0), self.hidden_dim).to(device)\n",
        "        c0 = torch.zeros(self.num_layers, x.size(0), self.hidden_dim).to(device)\n",
        "\n",
        "        # Forward propagate LSTM\n",
        "        out, (hn, cn) = self.lstm(x, (h0, c0))\n",
        "\n",
        "        # Decode the hidden state of the last time step\n",
        "        out = self.fc(out[:, -1, :])\n",
        "        return out"
      ],
      "metadata": {
        "id": "KYjOU-wLiaJ-"
      },
      "execution_count": null,
      "outputs": []
    },
    {
      "cell_type": "code",
      "source": [
        "#Test Model\n",
        "model = LSTM_Model(input_dim=7, hidden_dim=32, output_dim=1, num_layers=1)"
      ],
      "metadata": {
        "id": "QheyO56DwCfl"
      },
      "execution_count": null,
      "outputs": []
    },
    {
      "cell_type": "code",
      "source": [
        "#Train Model\n",
        "criterion = torch.nn.MSELoss()\n",
        "optimizer = optim.Adam(model.parameters(), lr=0.00001)\n",
        "epochs = 100\n",
        "\n",
        "#Gradient Descent\n",
        "for epoch in range(epochs):\n",
        "    outputs = model(X_train)\n",
        "    loss = criterion(outputs, Y_train)\n",
        "    optimizer.zero_grad()\n",
        "    loss.backward()\n",
        "    optimizer.step()\n",
        "    #Print the loss every few epochs\n",
        "    if epoch % 10 == 0:\n",
        "        print(f'Epoch [{epoch+1}/{epochs}], Loss: {loss.item():.4f}')"
      ],
      "metadata": {
        "colab": {
          "base_uri": "https://localhost:8080/"
        },
        "id": "jzpRvf1s2frP",
        "outputId": "be5d0d6b-269d-430d-c425-cf936c27b498"
      },
      "execution_count": null,
      "outputs": [
        {
          "output_type": "stream",
          "name": "stdout",
          "text": [
            "Epoch [1/100], Loss: 0.0126\n",
            "Epoch [11/100], Loss: 0.0124\n",
            "Epoch [21/100], Loss: 0.0122\n",
            "Epoch [31/100], Loss: 0.0120\n",
            "Epoch [41/100], Loss: 0.0118\n",
            "Epoch [51/100], Loss: 0.0116\n",
            "Epoch [61/100], Loss: 0.0114\n",
            "Epoch [71/100], Loss: 0.0112\n",
            "Epoch [81/100], Loss: 0.0110\n",
            "Epoch [91/100], Loss: 0.0108\n"
          ]
        }
      ]
    },
    {
      "cell_type": "code",
      "source": [
        "#Prep for Graph\n",
        "predict = pd.DataFrame((Y_train.detach().numpy().reshape(-1, 1)))\n",
        "original = pd.DataFrame((X_train.detach().numpy().reshape(-1, 1)))\n",
        "#Graph the data\n",
        "fig = plt.figure(figsize=(10, 6))\n",
        "ax = fig.add_subplot(111)\n",
        "xa = list(range(len(original)))\n",
        "ax.plot(xa, original, color='red', label='Historical')\n",
        "xb = list(range(len(original), len(original) + len(predict)))\n",
        "ax.plot(xb, predict, color='green', label='Predictions')\n",
        "ax.set_xlabel('Time')\n",
        "ax.set_ylabel('Stock Returns')\n",
        "ax.set_title('Historical vs Predicted Stock Returns')\n",
        "ax.legend()\n",
        "plt.show()\n"
      ],
      "metadata": {
        "id": "rx-8KxnZ3l3V",
        "colab": {
          "base_uri": "https://localhost:8080/",
          "height": 564
        },
        "outputId": "91e7f3b0-2f21-43e5-fe3b-d4faa74f4469"
      },
      "execution_count": null,
      "outputs": [
        {
          "output_type": "display_data",
          "data": {
            "text/plain": [
              "<Figure size 1000x600 with 1 Axes>"
            ],
            "image/png": "[encoded data removed]"
          },
          "metadata": {}
        }
      ]
    },
    {
      "cell_type": "code",
      "source": [],
      "metadata": {
        "id": "yiI7MWa0dqop"
      },
      "execution_count": null,
      "outputs": []
    }
  ]
}